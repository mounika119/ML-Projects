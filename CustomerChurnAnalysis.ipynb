{
 "cells": [
  {
   "cell_type": "code",
   "execution_count": 1,
   "id": "4d03607e-4d7c-41df-ad83-cd6ee9677fe7",
   "metadata": {},
   "outputs": [
    {
     "name": "stdout",
     "output_type": "stream",
     "text": [
      "Requirement already satisfied: openpyxl in c:\\users\\mouni\\appdata\\local\\programs\\python\\python313\\lib\\site-packages (3.1.5)\n",
      "Requirement already satisfied: et-xmlfile in c:\\users\\mouni\\appdata\\local\\programs\\python\\python313\\lib\\site-packages (from openpyxl) (2.0.0)\n",
      "Note: you may need to restart the kernel to use updated packages.\n"
     ]
    }
   ],
   "source": [
    "pip install openpyxl"
   ]
  },
  {
   "cell_type": "code",
   "execution_count": 2,
   "id": "d5c0582f-0a30-4889-b1c2-030aa949655f",
   "metadata": {},
   "outputs": [
    {
     "name": "stdout",
     "output_type": "stream",
     "text": [
      "   CustomerID  Count        Country       State         City  Zip Code  \\\n",
      "0  3668-QPYBK      1  United States  California  Los Angeles     90003   \n",
      "1  9237-HQITU      1  United States  California  Los Angeles     90005   \n",
      "2  9305-CDSKC      1  United States  California  Los Angeles     90006   \n",
      "3  7892-POOKP      1  United States  California  Los Angeles     90010   \n",
      "4  0280-XJGEX      1  United States  California  Los Angeles     90015   \n",
      "\n",
      "                 Lat Long   Latitude   Longitude  Gender  ...        Contract  \\\n",
      "0  33.964131, -118.272783  33.964131 -118.272783    Male  ...  Month-to-month   \n",
      "1   34.059281, -118.30742  34.059281 -118.307420  Female  ...  Month-to-month   \n",
      "2  34.048013, -118.293953  34.048013 -118.293953  Female  ...  Month-to-month   \n",
      "3  34.062125, -118.315709  34.062125 -118.315709  Female  ...  Month-to-month   \n",
      "4  34.039224, -118.266293  34.039224 -118.266293    Male  ...  Month-to-month   \n",
      "\n",
      "  Paperless Billing             Payment Method  Monthly Charges Total Charges  \\\n",
      "0               Yes               Mailed check            53.85        108.15   \n",
      "1               Yes           Electronic check            70.70        151.65   \n",
      "2               Yes           Electronic check            99.65         820.5   \n",
      "3               Yes           Electronic check           104.80       3046.05   \n",
      "4               Yes  Bank transfer (automatic)           103.70        5036.3   \n",
      "\n",
      "  Churn Label Churn Value Churn Score  CLTV                   Churn Reason  \n",
      "0         Yes           1          86  3239   Competitor made better offer  \n",
      "1         Yes           1          67  2701                          Moved  \n",
      "2         Yes           1          86  5372                          Moved  \n",
      "3         Yes           1          84  5003                          Moved  \n",
      "4         Yes           1          89  5340  Competitor had better devices  \n",
      "\n",
      "[5 rows x 33 columns]\n"
     ]
    }
   ],
   "source": [
    "import pandas as pd\n",
    "\n",
    "# Load the dataset (replace the path with your actual dataset path)\n",
    "df1 = pd.read_excel(\"C:\\\\Users\\\\mouni\\\\Downloads\\\\archive (1)\\\\Telco_customer_churn.xlsx\")\n",
    "df1.to_csv(\"C:\\\\Users\\\\mouni\\\\Downloads\\\\Telco_customer_churn.csv\", index=False)\n",
    "df = pd.read_csv(\"C:\\\\Users\\\\mouni\\\\Downloads\\\\Telco_customer_churn.csv\")\n",
    "print(df.head())"
   ]
  },
  {
   "cell_type": "code",
   "execution_count": 3,
   "id": "6ec6c917-3f11-4e5d-b3e5-494776d0857d",
   "metadata": {},
   "outputs": [
    {
     "name": "stderr",
     "output_type": "stream",
     "text": [
      "C:\\Users\\mouni\\AppData\\Local\\Temp\\ipykernel_6924\\830622356.py:11: FutureWarning: A value is trying to be set on a copy of a DataFrame or Series through chained assignment using an inplace method.\n",
      "The behavior will change in pandas 3.0. This inplace method will never work because the intermediate object on which we are setting values always behaves as a copy.\n",
      "\n",
      "For example, when doing 'df[col].method(value, inplace=True)', try using 'df.method({col: value}, inplace=True)' or df[col] = df[col].method(value) instead, to perform the operation inplace on the original object.\n",
      "\n",
      "\n",
      "  df[col].fillna(df[col].mode()[0], inplace=True)\n"
     ]
    }
   ],
   "source": [
    "# Separate numeric columns\n",
    "numeric_cols = df.select_dtypes(include=['number']).columns\n",
    "\n",
    "# Fill missing values with the mean for numeric columns\n",
    "df[numeric_cols] = df[numeric_cols].fillna(df[numeric_cols].mean())\n",
    "# Separate non-numeric columns\n",
    "non_numeric_cols = df.select_dtypes(exclude=['number']).columns\n",
    "\n",
    "# Fill missing values with the mode for non-numeric columns\n",
    "for col in non_numeric_cols:\n",
    "    df[col].fillna(df[col].mode()[0], inplace=True)\n",
    "\n",
    "\n",
    "# Convert categorical variables to numerical ones (One-Hot Encoding)\n",
    "df = pd.get_dummies(df, drop_first=True)"
   ]
  },
  {
   "cell_type": "code",
   "execution_count": null,
   "id": "1d92d575-5cbb-482c-b751-7e31badd3a62",
   "metadata": {},
   "outputs": [
    {
     "data": {
      "image/png": "[encoded data removed]",
      "text/plain": [
       "<Figure size 640x480 with 1 Axes>"
      ]
     },
     "metadata": {},
     "output_type": "display_data"
    }
   ],
   "source": [
    "import matplotlib.pyplot as plt\n",
    "import seaborn as sns\n",
    "\n",
    "# Distribution of the target variable (Churn)\n",
    "sns.countplot(x='Churn Value', data=df)\n",
    "plt.show()\n",
    "# Correlation heatmap\n",
    "plt.figure(figsize=(12, 8))\n",
    "sns.heatmap(df.corr(), annot=True, cmap='coolwarm', fmt='.2f')\n",
    "plt.show()\n"
   ]
  },
  {
   "cell_type": "code",
   "execution_count": null,
   "id": "133db5a4-8128-4d68-9d15-d59d5e6596df",
   "metadata": {},
   "outputs": [],
   "source": [
    "from sklearn.model_selection import train_test_split\n",
    "\n",
    "# Define the target variable and features\n",
    "X = df.drop('Churn Value', axis=1)  # Features\n",
    "y = df['Churn Value']  # Target variable\n",
    "\n",
    "# Split the dataset into training and testing sets (80-20 split)\n",
    "X_train, X_test, y_train, y_test = train_test_split(X, y, test_size=0.2, random_state=42)"
   ]
  },
  {
   "cell_type": "code",
   "execution_count": null,
   "id": "e1dcc5e0-8610-4f38-ac65-93b896228f7e",
   "metadata": {},
   "outputs": [],
   "source": [
    "from sklearn.ensemble import RandomForestClassifier\n",
    "from sklearn.metrics import classification_report, accuracy_score\n",
    "\n",
    "# Initialize and train the Random Forest classifier\n",
    "rf = RandomForestClassifier(n_estimators=100, random_state=42)\n",
    "rf.fit(X_train, y_train)\n",
    "\n",
    "# Predict on the test set\n",
    "y_pred = rf.predict(X_test)\n",
    "\n",
    "# Evaluate the model\n",
    "print(\"Accuracy Score:\", accuracy_score(y_test, y_pred))\n",
    "print(\"Classification Report:\")\n",
    "print(classification_report(y_test, y_pred))"
   ]
  },
  {
   "cell_type": "code",
   "execution_count": null,
   "id": "c01b0481-7129-471f-9755-a875d15db283",
   "metadata": {},
   "outputs": [],
   "source": [
    "from sklearn.metrics import confusion_matrix\n",
    "import seaborn as sns\n",
    "\n",
    "# Confusion Matrix\n",
    "cm = confusion_matrix(y_test, y_pred)\n",
    "plt.figure(figsize=(6, 6))\n",
    "sns.heatmap(cm, annot=True, fmt=\"d\", cmap='Blues', xticklabels=[\"Stay\", \"Churn\"], yticklabels=[\"Stay\", \"Churn\"])\n",
    "plt.xlabel('Predicted')\n",
    "plt.ylabel('Actual')\n",
    "plt.title('Confusion Matrix')\n",
    "plt.show()\n"
   ]
  },
  {
   "cell_type": "code",
   "execution_count": null,
   "id": "1aec4d84-9c70-4254-85c8-400a49bcff3e",
   "metadata": {},
   "outputs": [],
   "source": [
    "import joblib\n",
    "\n",
    "# Save the trained model\n",
    "joblib.dump(rf, 'churn_prediction_model.pkl')\n",
    "\n",
    "# Load the model (for deployment or testing)\n",
    "rf_loaded = joblib.load('churn_prediction_model.pkl')\n",
    "\n"
   ]
  },
  {
   "cell_type": "code",
   "execution_count": null,
   "id": "eb03902b-aacd-4da7-857b-c360a081062c",
   "metadata": {},
   "outputs": [],
   "source": []
  }
 ],
 "metadata": {
  "kernelspec": {
   "display_name": "Python 3 (ipykernel)",
   "language": "python",
   "name": "python3"
  },
  "language_info": {
   "codemirror_mode": {
    "name": "ipython",
    "version": 3
   },
   "file_extension": ".py",
   "mimetype": "text/x-python",
   "name": "python",
   "nbconvert_exporter": "python",
   "pygments_lexer": "ipython3",
   "version": "3.13.1"
  }
 },
 "nbformat": 4,
 "nbformat_minor": 5
}
